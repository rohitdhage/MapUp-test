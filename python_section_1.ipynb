{
 "cells": [
  {
   "cell_type": "markdown",
   "id": "a63fc203",
   "metadata": {},
   "source": [
    "# Q1"
   ]
  },
  {
   "cell_type": "code",
   "execution_count": 1,
   "id": "99568e4f",
   "metadata": {},
   "outputs": [
    {
     "name": "stdout",
     "output_type": "stream",
     "text": [
      "[3, 2, 1, 6, 5, 4, 9, 8, 7, 10]\n"
     ]
    }
   ],
   "source": [
    "\n",
    "def reverse_in_groups(lst, n):\n",
    "    result = []\n",
    "    \n",
    "    for i in range(0, len(lst), n):\n",
    "        group = lst[i:i+n] \n",
    "        \n",
    "        for j in range(len(group) // 2):\n",
    "            group[j], group[len(group) - 1 - j] = group[len(group) - 1 - j], group[j]\n",
    "        \n",
    "        result.extend(group)\n",
    "    \n",
    "    return result\n",
    "\n",
    "lst = [1, 2, 3, 4, 5, 6, 7, 8, 9, 10]\n",
    "n = 3\n",
    "\n",
    "result = reverse_in_groups(lst, n)\n",
    "print(result)\n",
    "\n",
    "\n"
   ]
  },
  {
   "cell_type": "markdown",
   "id": "90c19e6e",
   "metadata": {},
   "source": [
    "# Q2"
   ]
  },
  {
   "cell_type": "code",
   "execution_count": 2,
   "id": "31ec0631",
   "metadata": {},
   "outputs": [
    {
     "name": "stdout",
     "output_type": "stream",
     "text": [
      "{3: ['cat', 'dog', 'bat', 'ant'], 5: ['apple'], 6: ['banana'], 8: ['elephant']}\n"
     ]
    }
   ],
   "source": [
    "def group_strings_by_length(lst):\n",
    "    grouped_dict = {}\n",
    "\n",
    "    for string in lst:\n",
    "        length = len(string) \n",
    "        \n",
    "        if length in grouped_dict:\n",
    "            grouped_dict[length].append(string)\n",
    "        else:\n",
    "            grouped_dict[length] = [string]\n",
    "\n",
    "    return dict(sorted(grouped_dict.items()))\n",
    "\n",
    "lst = [\"apple\", \"banana\", \"cat\", \"dog\", \"elephant\", \"bat\", \"ant\"]\n",
    "result = group_strings_by_length(lst)\n",
    "print(result)"
   ]
  },
  {
   "cell_type": "markdown",
   "id": "e2bb42de",
   "metadata": {},
   "source": [
    "# Q3"
   ]
  },
  {
   "cell_type": "code",
   "execution_count": 3,
   "id": "1b0abf8b",
   "metadata": {},
   "outputs": [
    {
     "name": "stdout",
     "output_type": "stream",
     "text": [
      "{'road.name': 'Highway 1', 'road.length': 350, 'road.sections[0].id': 1, 'road.sections[0].condition.pavement': 'good', 'road.sections[0].condition.traffic': 'moderate'}\n"
     ]
    }
   ],
   "source": [
    "def flatten_dict(d, parent_key=''):\n",
    "    items = []  \n",
    "\n",
    "    for k, v in d.items():\n",
    "        new_key = f\"{parent_key}.{k}\" if parent_key else k\n",
    "\n",
    "        if isinstance(v, dict):\n",
    "            items.extend(flatten_dict(v, new_key).items())\n",
    "        elif isinstance(v, list):\n",
    "            for i, item in enumerate(v):\n",
    "                items.extend(flatten_dict({f\"{new_key}[{i}]\": item}).items())\n",
    "        else:\n",
    "            items.append((new_key, v))\n",
    "\n",
    "    return dict(items)\n",
    "\n",
    "# Example usage:\n",
    "nested_dict = {\n",
    "    \"road\": {\n",
    "        \"name\": \"Highway 1\",\n",
    "        \"length\": 350,\n",
    "        \"sections\": [\n",
    "            {\n",
    "                \"id\": 1,\n",
    "                \"condition\": {\n",
    "                    \"pavement\": \"good\",\n",
    "                    \"traffic\": \"moderate\"\n",
    "                }\n",
    "            }\n",
    "        ]\n",
    "    }\n",
    "}\n",
    "\n",
    "result = flatten_dict(nested_dict)\n",
    "print(result)"
   ]
  },
  {
   "cell_type": "markdown",
   "id": "98e4df46",
   "metadata": {},
   "source": [
    "# 4"
   ]
  },
  {
   "cell_type": "code",
   "execution_count": 4,
   "id": "4a197e48",
   "metadata": {},
   "outputs": [
    {
     "name": "stdout",
     "output_type": "stream",
     "text": [
      "[1, 1, 2]\n",
      "[1, 2, 1]\n",
      "[2, 1, 1]\n"
     ]
    }
   ],
   "source": [
    "def unique_permutations(nums):\n",
    "    def backtrack(path, used):\n",
    "        if len(path) == len(nums):\n",
    "            result.append(path[:]) \n",
    "            return\n",
    "        \n",
    "        for i in range(len(nums)):\n",
    "            if used[i]:\n",
    "                continue\n",
    "            if i > 0 and nums[i] == nums[i-1] and not used[i-1]:\n",
    "                continue\n",
    "            \n",
    "            used[i] = True\n",
    "            path.append(nums[i])\n",
    "            \n",
    "            backtrack(path, used)\n",
    "            \n",
    "            path.pop()\n",
    "            used[i] = False\n",
    "    \n",
    "    nums.sort()  \n",
    "    result = []\n",
    "    used = [False] * len(nums) \n",
    "    backtrack([], used)\n",
    "    return result\n",
    "\n",
    "\n",
    "nums = [1, 1, 2]\n",
    "result = unique_permutations(nums)\n",
    "for perm in result:\n",
    "    print(perm)"
   ]
  },
  {
   "cell_type": "markdown",
   "id": "60cc3ae2",
   "metadata": {},
   "source": [
    "# 5"
   ]
  },
  {
   "cell_type": "code",
   "execution_count": 5,
   "id": "cbe65a81",
   "metadata": {},
   "outputs": [
    {
     "name": "stdout",
     "output_type": "stream",
     "text": [
      "['25-12-2021', '30-02-2021', '12/31/2020', '2022.04.05']\n"
     ]
    }
   ],
   "source": [
    "import re\n",
    "\n",
    "def find_all_dates(text):\n",
    "    date_patterns = [\n",
    "        r'\\b\\d{2}-\\d{2}-\\d{4}\\b', \n",
    "        r'\\b\\d{2}/\\d{2}/\\d{4}\\b',  \n",
    "        r'\\b\\d{4}\\.\\d{2}\\.\\d{2}\\b'  \n",
    "    ]\n",
    "    \n",
    "    all_dates = []\n",
    "    \n",
    "    for pattern in date_patterns:\n",
    "        matches = re.findall(pattern, text)\n",
    "        all_dates.extend(matches)  \n",
    "    \n",
    "    return all_dates\n",
    "\n",
    "text = \"Here are some dates: 25-12-2021, 12/31/2020, and 2022.04.05. But not 30-02-2021.\"\n",
    "result = find_all_dates(text)\n",
    "print(result)"
   ]
  },
  {
   "cell_type": "markdown",
   "id": "18061f07",
   "metadata": {},
   "source": [
    "# 6"
   ]
  },
  {
   "cell_type": "code",
   "execution_count": 6,
   "id": "a8d52b27",
   "metadata": {},
   "outputs": [
    {
     "name": "stdout",
     "output_type": "stream",
     "text": [
      "   latitude  longitude    distance\n",
      "0  39.33131  -74.78496    0.000000\n",
      "1  39.33438  -74.78554  344.993920\n",
      "2  39.33535  -74.78782  223.796184\n",
      "3  39.33605  -74.78824   85.809466\n",
      "4  39.33846  -74.79156  391.583044\n",
      "5  39.33542  -74.79032  354.455296\n",
      "6  39.33475  -74.78900  135.787766\n",
      "7  39.33278  -74.78729  263.844861\n",
      "8  39.33045  -74.78593  284.265496\n"
     ]
    }
   ],
   "source": [
    "import polyline\n",
    "import pandas as pd\n",
    "import numpy as np\n",
    "from math import radians, sin, cos, sqrt, atan2\n",
    "\n",
    "def haversine(lat1, lon1, lat2, lon2):\n",
    "    R = 6371000  \n",
    "    phi1, phi2 = radians(lat1), radians(lat2)\n",
    "    delta_phi = radians(lat2 - lat1)\n",
    "    delta_lambda = radians(lon2 - lon1)\n",
    "    \n",
    "    a = sin(delta_phi / 2) ** 2 + cos(phi1) * cos(phi2) * sin(delta_lambda / 2) ** 2\n",
    "    c = 2 * atan2(sqrt(a), sqrt(1 - a))\n",
    "    \n",
    "    return R * c  \n",
    "\n",
    "def decode_polyline_to_df(polyline_str):\n",
    "    coordinates = polyline.decode(polyline_str)\n",
    "    \n",
    "    df = pd.DataFrame(coordinates, columns=['latitude', 'longitude'])\n",
    "    \n",
    "    distances = [0]  \n",
    "    for i in range(1, len(df)):\n",
    "        lat1, lon1 = df.iloc[i-1]['latitude'], df.iloc[i-1]['longitude']\n",
    "        lat2, lon2 = df.iloc[i]['latitude'], df.iloc[i]['longitude']\n",
    "        distance = haversine(lat1, lon1, lat2, lon2)\n",
    "        distances.append(distance)\n",
    "    \n",
    "    df['distance'] = distances\n",
    "    return df\n",
    "\n",
    "polyline_str = 'u{`oF~lmgMeRrBaEfMkCrAaNvS~QwFdCgGhKuIpMoG'\n",
    "df = decode_polyline_to_df(polyline_str)\n",
    "print(df)"
   ]
  },
  {
   "cell_type": "markdown",
   "id": "3fba0501",
   "metadata": {},
   "source": [
    "# 7"
   ]
  },
  {
   "cell_type": "code",
   "execution_count": 7,
   "id": "dc7fb0d5",
   "metadata": {},
   "outputs": [
    {
     "name": "stdout",
     "output_type": "stream",
     "text": [
      "[22, 19, 16]\n",
      "[23, 20, 17]\n",
      "[24, 21, 18]\n"
     ]
    }
   ],
   "source": [
    "def rotate_matrix_90_clockwise(matrix):\n",
    "    n = len(matrix)\n",
    "    for i in range(n):\n",
    "        for j in range(i, n):\n",
    "            matrix[i][j], matrix[j][i] = matrix[j][i], matrix[i][j]\n",
    "    \n",
    "    for i in range(n):\n",
    "        matrix[i].reverse()\n",
    "\n",
    "def transform_matrix(matrix):\n",
    "    n = len(matrix)\n",
    "    \n",
    "    rotate_matrix_90_clockwise(matrix)\n",
    "    \n",
    "    result = [[0]*n for _ in range(n)]\n",
    "    \n",
    "    row_sums = [sum(row) for row in matrix]\n",
    "    col_sums = [sum(matrix[i][j] for i in range(n)) for j in range(n)]\n",
    "    \n",
    "    for i in range(n):\n",
    "        for j in range(n):\n",
    "            result[i][j] = row_sums[i] + col_sums[j] - 2 * matrix[i][j]\n",
    "    \n",
    "    return result\n",
    "\n",
    "matrix = [\n",
    "    [1, 2, 3],\n",
    "    [4, 5, 6],\n",
    "    [7, 8, 9]\n",
    "]\n",
    "\n",
    "result_matrix = transform_matrix(matrix)\n",
    "for row in result_matrix:\n",
    "    print(row)"
   ]
  },
  {
   "cell_type": "markdown",
   "id": "5a17131d",
   "metadata": {},
   "source": [
    "# 8"
   ]
  },
  {
   "cell_type": "code",
   "execution_count": 8,
   "id": "5be9af16",
   "metadata": {},
   "outputs": [
    {
     "data": {
      "text/plain": [
       "id       id_2    \n",
       "1014000  -1          False\n",
       "1014002  -1          False\n",
       "1014003  -1          False\n",
       "1030000  -1          False\n",
       "          1030002    False\n",
       "dtype: bool"
      ]
     },
     "execution_count": 8,
     "metadata": {},
     "output_type": "execute_result"
    }
   ],
   "source": [
    "import pandas as pd\n",
    "from datetime import datetime\n",
    "\n",
    "days_of_week = ['Monday', 'Tuesday', 'Wednesday', 'Thursday', 'Friday', 'Saturday', 'Sunday']\n",
    "\n",
    "def check_time_coverage(df):\n",
    "    result = {}\n",
    "\n",
    "    grouped = df.groupby(['id', 'id_2'])\n",
    "\n",
    "    for (id_val, id_2_val), group in grouped:\n",
    "        day_coverage = set()\n",
    "        time_coverage = True\n",
    "        \n",
    "        for _, row in group.iterrows():\n",
    "            start_day = row['startDay']\n",
    "            start_time = row['startTime']\n",
    "            end_day = row['endDay']\n",
    "            end_time = row['endTime']\n",
    "\n",
    "            start_idx = days_of_week.index(start_day)\n",
    "            end_idx = days_of_week.index(end_day)\n",
    "\n",
    "            if start_idx > end_idx:  \n",
    "                days_range = days_of_week[start_idx:] + days_of_week[:end_idx + 1]\n",
    "            else:\n",
    "                days_range = days_of_week[start_idx:end_idx + 1]\n",
    "\n",
    "            day_coverage.update(days_range)\n",
    "\n",
    "            if start_time != \"00:00:00\" or end_time != \"23:59:59\":\n",
    "                time_coverage = False\n",
    "\n",
    "        full_day_coverage = set(days_of_week) == day_coverage\n",
    "        result[(id_val, id_2_val)] = full_day_coverage and time_coverage\n",
    "\n",
    "    result_series = pd.Series(result)\n",
    "    result_series.index = pd.MultiIndex.from_tuples(result.keys(), names=[\"id\", \"id_2\"])\n",
    "    return result_series\n",
    "\n",
    "file_path = 'C:/Users/HP/Music/dataset.csv'\n",
    "df = pd.read_csv(file_path)\n",
    "\n",
    "coverage_result = check_time_coverage(df)\n",
    "\n",
    "coverage_result.head()"
   ]
  },
  {
   "cell_type": "code",
   "execution_count": null,
   "id": "146fcaf9",
   "metadata": {},
   "outputs": [],
   "source": []
  }
 ],
 "metadata": {
  "kernelspec": {
   "display_name": "Python 3 (ipykernel)",
   "language": "python",
   "name": "python3"
  },
  "language_info": {
   "codemirror_mode": {
    "name": "ipython",
    "version": 3
   },
   "file_extension": ".py",
   "mimetype": "text/x-python",
   "name": "python",
   "nbconvert_exporter": "python",
   "pygments_lexer": "ipython3",
   "version": "3.11.7"
  }
 },
 "nbformat": 4,
 "nbformat_minor": 5
}
